{
 "cells": [
  {
   "cell_type": "code",
   "execution_count": 1,
   "id": "49eb2f31",
   "metadata": {},
   "outputs": [],
   "source": [
    "#Modulus - used to calculate the remainder of a division sum"
   ]
  },
  {
   "cell_type": "code",
   "execution_count": 3,
   "id": "4f6c30b6",
   "metadata": {},
   "outputs": [
    {
     "data": {
      "text/plain": [
       "5.5"
      ]
     },
     "execution_count": 3,
     "metadata": {},
     "output_type": "execute_result"
    }
   ],
   "source": [
    "#True Division - result of dividing two integers is a float\n",
    "22/4"
   ]
  },
  {
   "cell_type": "code",
   "execution_count": 4,
   "id": "b2ff6c47",
   "metadata": {},
   "outputs": [
    {
     "data": {
      "text/plain": [
       "5"
      ]
     },
     "execution_count": 4,
     "metadata": {},
     "output_type": "execute_result"
    }
   ],
   "source": [
    "#Floor Division - the result is truncated downso the result is the floor\n",
    "22//4"
   ]
  },
  {
   "cell_type": "code",
   "execution_count": 6,
   "id": "7a8bc85b",
   "metadata": {},
   "outputs": [
    {
     "name": "stdout",
     "output_type": "stream",
     "text": [
      "<class 'tuple'>\n",
      "<class 'dict'>\n"
     ]
    }
   ],
   "source": [
    "#Type - method returns class type of argument(object) passed as a parameter\n",
    "numbers_list= (1,2)\n",
    "print(type(numbers_list))\n",
    "\n",
    "numbers_dict= {1: 'one', 2: 'two'}\n",
    "print(type(numbers_dict))"
   ]
  },
  {
   "cell_type": "code",
   "execution_count": 7,
   "id": "0d941199",
   "metadata": {},
   "outputs": [
    {
     "data": {
      "text/plain": [
       "2"
      ]
     },
     "execution_count": 7,
     "metadata": {},
     "output_type": "execute_result"
    }
   ],
   "source": [
    "#Arithmetic Operators\n",
    "2+2\n",
    "4-2\n",
    "2*2\n",
    "5/2\n",
    "5//2"
   ]
  },
  {
   "cell_type": "code",
   "execution_count": 9,
   "id": "4481643e",
   "metadata": {},
   "outputs": [
    {
     "name": "stdout",
     "output_type": "stream",
     "text": [
      "8\n"
     ]
    }
   ],
   "source": [
    "#Exponentiation Operator is the exponentiation operator. It is used to raise first operand to power of second \n",
    "value1=2\n",
    "value2=3\n",
    "\n",
    "res=value1 ** value2\n",
    "print(res)"
   ]
  },
  {
   "cell_type": "code",
   "execution_count": 10,
   "id": "b6868467",
   "metadata": {},
   "outputs": [],
   "source": [
    "#Comment on python using the hash symbol"
   ]
  },
  {
   "cell_type": "code",
   "execution_count": 16,
   "id": "4ef6e23c",
   "metadata": {},
   "outputs": [
    {
     "data": {
      "text/plain": [
       "'pizza'"
      ]
     },
     "execution_count": 16,
     "metadata": {},
     "output_type": "execute_result"
    }
   ],
   "source": [
    "#F-string - provide a way to embed expressionsinside string literals, using a minimal syntax\n",
    "f'pizza'"
   ]
  },
  {
   "cell_type": "code",
   "execution_count": 18,
   "id": "50946f13",
   "metadata": {},
   "outputs": [],
   "source": [
    "#Decimals vs Floats\n",
    "#Decimals - decimals accurately represent any number within the precision of the decimal format, whereas float cannot accurately\n",
    "#Float - a single precision(32 bit) floating print data type and decimal is the 128-bit floating point data type, floating poiny"
   ]
  },
  {
   "cell_type": "code",
   "execution_count": 19,
   "id": "c87325d4",
   "metadata": {},
   "outputs": [
    {
     "data": {
      "text/plain": [
       "range(0, 9, 3)"
      ]
     },
     "execution_count": 19,
     "metadata": {},
     "output_type": "execute_result"
    }
   ],
   "source": [
    "range(10)[:3]\n",
    "range(9)[::3]"
   ]
  },
  {
   "cell_type": "code",
   "execution_count": 20,
   "id": "165b40de",
   "metadata": {},
   "outputs": [
    {
     "name": "stdout",
     "output_type": "stream",
     "text": [
      "Enter your value: 213\n",
      "213\n"
     ]
    }
   ],
   "source": [
    "#Python program showing a use of input()\n",
    "val=input(\"Enter your value: \")\n",
    "print(val)"
   ]
  },
  {
   "cell_type": "code",
   "execution_count": 21,
   "id": "d3e94e36",
   "metadata": {},
   "outputs": [
    {
     "ename": "SyntaxError",
     "evalue": "invalid syntax (<ipython-input-21-aa7fd5f3eb04>, line 1)",
     "output_type": "error",
     "traceback": [
      "\u001b[0;36m  File \u001b[0;32m\"<ipython-input-21-aa7fd5f3eb04>\"\u001b[0;36m, line \u001b[0;32m1\u001b[0m\n\u001b[0;31m    import basic descriptive statistics\u001b[0m\n\u001b[0m                 ^\u001b[0m\n\u001b[0;31mSyntaxError\u001b[0m\u001b[0;31m:\u001b[0m invalid syntax\n"
     ]
    }
   ],
   "source": [
    "import basic descriptive statistics"
   ]
  },
  {
   "cell_type": "code",
   "execution_count": null,
   "id": "52170c0b",
   "metadata": {},
   "outputs": [],
   "source": []
  },
  {
   "cell_type": "code",
   "execution_count": 14,
   "id": "00b30886",
   "metadata": {},
   "outputs": [],
   "source": [
    "# Dictionary keys and values and how to access each of them\n",
    "\n",
    "#a.Update\n",
    "#b.Delete\n",
    "#c.Keys(), values(), items()\n",
    "#d.Loop through it\n",
    "#e.Update key and value of an dictionary\n"
   ]
  },
  {
   "cell_type": "code",
   "execution_count": 15,
   "id": "2bb74e3e",
   "metadata": {},
   "outputs": [],
   "source": [
    "# Create a set using range function, convert list to set, set to list\n",
    "\n",
    "#a.issubset() / .issuperset()\n",
    "#b.union\n",
    "#c.intersection\n",
    "#d.symmetric difference\n",
    "#e.add \n",
    "#f.remove, pop, clear what are the differences\n",
    "\n",
    "\n"
   ]
  },
  {
   "cell_type": "code",
   "execution_count": 13,
   "id": "76730de0",
   "metadata": {},
   "outputs": [
    {
     "ename": "IndentationError",
     "evalue": "unexpected indent (<ipython-input-13-094b2f9fc8a7>, line 4)",
     "output_type": "error",
     "traceback": [
      "\u001b[0;36m  File \u001b[0;32m\"<ipython-input-13-094b2f9fc8a7>\"\u001b[0;36m, line \u001b[0;32m4\u001b[0m\n\u001b[0;31m    Lists are created using square brackets:\u001b[0m\n\u001b[0m    ^\u001b[0m\n\u001b[0;31mIndentationError\u001b[0m\u001b[0;31m:\u001b[0m unexpected indent\n"
     ]
    }
   ],
   "source": [
    "# Difference between list, tuple, set, dictionary\n",
    "\n",
    "#list- Lists are used to store multiple items in a single variable.\n",
    "    Lists are created using square brackets:\n",
    "#tuple - Tuples are used to store multiple items in a single variable.\n",
    "    A tuple is a collection which is ordered and unchangeable.\n",
    "#set - Sets are used to store multiple items in a single variable.\n",
    "    A set is a collection which is unordered, unchangeable*, and unindexed.\n",
    "#dictionary - Dictionaries are used to store data values in key:value pairs.\n",
    "    A dictionary is a collection which is ordered*, changeable and does not allow duplicates."
   ]
  }
 ],
 "metadata": {
  "kernelspec": {
   "display_name": "Python 3",
   "language": "python",
   "name": "python3"
  },
  "language_info": {
   "codemirror_mode": {
    "name": "ipython",
    "version": 3
   },
   "file_extension": ".py",
   "mimetype": "text/x-python",
   "name": "python",
   "nbconvert_exporter": "python",
   "pygments_lexer": "ipython3",
   "version": "3.8.8"
  }
 },
 "nbformat": 4,
 "nbformat_minor": 5
}
